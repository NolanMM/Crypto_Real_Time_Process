{
 "cells": [
  {
   "cell_type": "markdown",
   "id": "a2db5868-a3b7-41b3-9e5f-c46664ddd95c",
   "metadata": {},
   "source": [
    "# Data Project - Stock Market Analysis"
   ]
  },
  {
   "cell_type": "markdown",
   "id": "fb4ae513-0dca-488c-aeb2-a0e96472314a",
   "metadata": {},
   "source": [
    "Time Series data is a series of data points indexed in time order."
   ]
  },
  {
   "cell_type": "code",
   "execution_count": null,
   "id": "6bfd0042-0b78-48fc-8d34-d9e6895a769d",
   "metadata": {},
   "outputs": [],
   "source": []
  },
  {
   "cell_type": "code",
   "execution_count": null,
   "id": "527b014f-42a0-44db-95a3-6b1a24ff7c96",
   "metadata": {},
   "outputs": [],
   "source": []
  },
  {
   "cell_type": "code",
   "execution_count": null,
   "id": "a2e0c411-53d4-4507-ba74-2cb9ab4ed3ea",
   "metadata": {},
   "outputs": [],
   "source": []
  },
  {
   "cell_type": "code",
   "execution_count": null,
   "id": "13d9c1bf-73c6-4259-8d87-1987c7fb329b",
   "metadata": {},
   "outputs": [],
   "source": []
  },
  {
   "cell_type": "code",
   "execution_count": null,
   "id": "712ba9b6-543d-44c5-a71b-d4c2070f6f78",
   "metadata": {},
   "outputs": [],
   "source": []
  },
  {
   "cell_type": "code",
   "execution_count": null,
   "id": "d3dc8e17-e555-4a6b-8155-7e587d2ff295",
   "metadata": {},
   "outputs": [],
   "source": []
  },
  {
   "cell_type": "code",
   "execution_count": null,
   "id": "0dfae04d-4c41-4dd8-a1c0-f3860bee13d9",
   "metadata": {},
   "outputs": [],
   "source": []
  },
  {
   "cell_type": "code",
   "execution_count": null,
   "id": "924aad09-cc83-4da0-9281-2c24817be2b5",
   "metadata": {},
   "outputs": [],
   "source": []
  },
  {
   "cell_type": "code",
   "execution_count": null,
   "id": "3f8f5dae-e020-4221-8053-c16c4282c9aa",
   "metadata": {},
   "outputs": [],
   "source": []
  },
  {
   "cell_type": "code",
   "execution_count": null,
   "id": "06634cd6-7653-42f2-b230-10452773f923",
   "metadata": {},
   "outputs": [],
   "source": []
  },
  {
   "cell_type": "code",
   "execution_count": null,
   "id": "145c6614-0fd5-4370-ae96-0396289486a4",
   "metadata": {},
   "outputs": [],
   "source": []
  },
  {
   "cell_type": "code",
   "execution_count": null,
   "id": "5b597f06-1c14-42ec-bd11-6606788329f3",
   "metadata": {},
   "outputs": [],
   "source": []
  },
  {
   "cell_type": "code",
   "execution_count": null,
   "id": "bbc3e3bd-6b22-4c35-ade7-7ba8b0566cf2",
   "metadata": {},
   "outputs": [],
   "source": []
  },
  {
   "cell_type": "code",
   "execution_count": null,
   "id": "755d6f8f-6e37-4c6a-9ee1-b85dd9006db7",
   "metadata": {},
   "outputs": [],
   "source": []
  },
  {
   "cell_type": "code",
   "execution_count": null,
   "id": "13599c92-5d77-4237-9439-681648b57aa0",
   "metadata": {},
   "outputs": [],
   "source": []
  },
  {
   "cell_type": "code",
   "execution_count": null,
   "id": "ae3bcc6e-96fc-4904-84fa-c2b2d1cc20ad",
   "metadata": {},
   "outputs": [],
   "source": []
  },
  {
   "cell_type": "code",
   "execution_count": null,
   "id": "3d07268f-5913-435e-a96a-1b5d25c54059",
   "metadata": {},
   "outputs": [],
   "source": []
  },
  {
   "cell_type": "code",
   "execution_count": null,
   "id": "6806eb31-8dfe-4640-8d90-bf3068b219a8",
   "metadata": {},
   "outputs": [],
   "source": []
  },
  {
   "cell_type": "code",
   "execution_count": null,
   "id": "fa2bc676-a346-4f45-83fe-c4f814ecef46",
   "metadata": {},
   "outputs": [],
   "source": []
  }
 ],
 "metadata": {
  "kernelspec": {
   "display_name": "Python 3 (ipykernel)",
   "language": "python",
   "name": "python3"
  },
  "language_info": {
   "codemirror_mode": {
    "name": "ipython",
    "version": 3
   },
   "file_extension": ".py",
   "mimetype": "text/x-python",
   "name": "python",
   "nbconvert_exporter": "python",
   "pygments_lexer": "ipython3",
   "version": "3.8.0"
  }
 },
 "nbformat": 4,
 "nbformat_minor": 5
}
